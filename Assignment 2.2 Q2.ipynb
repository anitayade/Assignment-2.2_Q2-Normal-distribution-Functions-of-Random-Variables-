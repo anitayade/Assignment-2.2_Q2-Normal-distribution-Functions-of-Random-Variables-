{
 "cells": [
  {
   "cell_type": "markdown",
   "id": "909e907f",
   "metadata": {},
   "source": [
    "Q2)The current age (in years) of 400 clerical employees at an insurance claims processing center is normally distributed with mean µ   = 38 and Standard deviation σ  =6. For each statement below, please specify True/False. If false, briefly explain why.\n",
    "\n",
    "A.\tMore employees at the processing center are older than 44 than between 38 and 44.\n",
    "\n",
    "B.\tA training program for employees under the age of 30 at the center would be expected to attract about 36 employees."
   ]
  },
  {
   "cell_type": "code",
   "execution_count": 1,
   "id": "2b51eecb",
   "metadata": {},
   "outputs": [],
   "source": [
    "import pandas as pd\n",
    "import numpy as np\n",
    "import matplotlib.pyplot as plt\n",
    "from scipy import stats\n",
    "from scipy.stats import norm"
   ]
  },
  {
   "cell_type": "code",
   "execution_count": 2,
   "id": "73793452",
   "metadata": {},
   "outputs": [
    {
     "data": {
      "text/plain": [
       "0.15865525393145707"
      ]
     },
     "execution_count": 2,
     "metadata": {},
     "output_type": "execute_result"
    }
   ],
   "source": [
    "#Given µ = 38, σ = 6, N = 400\n",
    "# stats.norm.cdf(x, loc = mean, scale=sd)\n",
    "#A)More employees at the processing center are older than 44 than between 38 and 44.\n",
    "#more employee at processing center older than 44= p(x>44)\n",
    "1-stats.norm.cdf(44,loc=38,scale=6)"
   ]
  },
  {
   "cell_type": "code",
   "execution_count": 3,
   "id": "1f1bbfab",
   "metadata": {},
   "outputs": [
    {
     "data": {
      "text/plain": [
       "0.3413447460685429"
      ]
     },
     "execution_count": 3,
     "metadata": {},
     "output_type": "execute_result"
    }
   ],
   "source": [
    "#employees processing center between 38&44\n",
    "#p(38<x<44)\n",
    "stats.norm.cdf(44,loc=38,scale=6)-stats.norm.cdf(38,loc=38,scale=6)"
   ]
  },
  {
   "cell_type": "code",
   "execution_count": 4,
   "id": "15faed62",
   "metadata": {},
   "outputs": [
    {
     "data": {
      "text/plain": [
       "0.09121121972586788"
      ]
     },
     "execution_count": 4,
     "metadata": {},
     "output_type": "execute_result"
    }
   ],
   "source": [
    "#B) A training program for employees under the age of 30 at the center would be expected to attract about 36 employees.\n",
    "# the employee under the age 30\n",
    "#p(x<30)\n",
    "stats.norm.cdf(30,loc=38,scale=6)"
   ]
  },
  {
   "cell_type": "code",
   "execution_count": 5,
   "id": "90cc69b2",
   "metadata": {},
   "outputs": [
    {
     "data": {
      "text/plain": [
       "36.484487890347154"
      ]
     },
     "execution_count": 5,
     "metadata": {},
     "output_type": "execute_result"
    }
   ],
   "source": [
    "#the number of employee  the probability is  0.09121 of them being under 30\n",
    "# N*P(x<30)\n",
    "400*0.09121121972586788"
   ]
  },
  {
   "cell_type": "code",
   "execution_count": null,
   "id": "6016125c",
   "metadata": {},
   "outputs": [],
   "source": []
  }
 ],
 "metadata": {
  "kernelspec": {
   "display_name": "Python 3",
   "language": "python",
   "name": "python3"
  },
  "language_info": {
   "codemirror_mode": {
    "name": "ipython",
    "version": 3
   },
   "file_extension": ".py",
   "mimetype": "text/x-python",
   "name": "python",
   "nbconvert_exporter": "python",
   "pygments_lexer": "ipython3",
   "version": "3.8.8"
  }
 },
 "nbformat": 4,
 "nbformat_minor": 5
}
